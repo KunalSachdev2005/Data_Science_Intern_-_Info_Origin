{
  "cells": [
    {
      "cell_type": "markdown",
      "metadata": {
        "id": "view-in-github",
        "colab_type": "text"
      },
      "source": [
        "<a href=\"https://colab.research.google.com/github/KunalSachdev2005/Data_Science_Intern_at_Info_Origin/blob/main/NER_for_Job_Descriptions/Training_Custom_NER_Model_with_spaCy.ipynb\" target=\"_parent\"><img src=\"https://colab.research.google.com/assets/colab-badge.svg\" alt=\"Open In Colab\"/></a>"
      ]
    },
    {
      "cell_type": "markdown",
      "source": [
        "# Installing & Importing Required Libraries"
      ],
      "metadata": {
        "id": "-14p_pKaWs2D"
      }
    },
    {
      "cell_type": "code",
      "execution_count": 1,
      "metadata": {
        "id": "lj7S-X3sv2ab"
      },
      "outputs": [],
      "source": [
        "! pip install -U spacy -q"
      ]
    },
    {
      "cell_type": "code",
      "execution_count": 2,
      "metadata": {
        "colab": {
          "base_uri": "https://localhost:8080/"
        },
        "id": "nRSiT9Q2v2o_",
        "outputId": "fcb30c99-dd04-4691-8982-792812dc3863"
      },
      "outputs": [
        {
          "output_type": "stream",
          "name": "stdout",
          "text": [
            "\u001b[1m\n",
            "============================== Info about spaCy ==============================\u001b[0m\n",
            "\n",
            "spaCy version    3.7.5                         \n",
            "Location         /usr/local/lib/python3.10/dist-packages/spacy\n",
            "Platform         Linux-6.1.85+-x86_64-with-glibc2.35\n",
            "Python version   3.10.12                       \n",
            "Pipelines        en_core_web_sm (3.7.1)        \n",
            "\n"
          ]
        }
      ],
      "source": [
        "!python -m spacy info"
      ]
    },
    {
      "cell_type": "code",
      "execution_count": 3,
      "metadata": {
        "colab": {
          "base_uri": "https://localhost:8080/"
        },
        "id": "6cYlHb2ugdTl",
        "outputId": "d75a21ee-100c-4b33-aa83-9a23a2bffdb6"
      },
      "outputs": [
        {
          "output_type": "stream",
          "name": "stdout",
          "text": [
            "Mounted at /content/drive\n"
          ]
        }
      ],
      "source": [
        "from google.colab import drive\n",
        "drive.mount('/content/drive', force_remount = True)"
      ]
    },
    {
      "cell_type": "code",
      "source": [
        "!pip install spacy-transformers"
      ],
      "metadata": {
        "colab": {
          "base_uri": "https://localhost:8080/"
        },
        "collapsed": true,
        "id": "Zs9ZOCBXuVO6",
        "outputId": "7dd4ca53-fd10-408d-fd1e-2ff23ca35f66"
      },
      "execution_count": 4,
      "outputs": [
        {
          "output_type": "stream",
          "name": "stdout",
          "text": [
            "Collecting spacy-transformers\n",
            "  Downloading spacy_transformers-1.3.5-cp310-cp310-manylinux_2_17_x86_64.manylinux2014_x86_64.whl.metadata (7.0 kB)\n",
            "Requirement already satisfied: spacy<4.1.0,>=3.5.0 in /usr/local/lib/python3.10/dist-packages (from spacy-transformers) (3.7.5)\n",
            "Collecting transformers<4.37.0,>=3.4.0 (from spacy-transformers)\n",
            "  Downloading transformers-4.36.2-py3-none-any.whl.metadata (126 kB)\n",
            "\u001b[2K     \u001b[90m━━━━━━━━━━━━━━━━━━━━━━━━━━━━━━━━━━━━━━━━\u001b[0m \u001b[32m126.8/126.8 kB\u001b[0m \u001b[31m3.8 MB/s\u001b[0m eta \u001b[36m0:00:00\u001b[0m\n",
            "\u001b[?25hRequirement already satisfied: torch>=1.8.0 in /usr/local/lib/python3.10/dist-packages (from spacy-transformers) (2.3.1+cu121)\n",
            "Requirement already satisfied: srsly<3.0.0,>=2.4.0 in /usr/local/lib/python3.10/dist-packages (from spacy-transformers) (2.4.8)\n",
            "Collecting spacy-alignments<1.0.0,>=0.7.2 (from spacy-transformers)\n",
            "  Downloading spacy_alignments-0.9.1-cp310-cp310-manylinux_2_17_x86_64.manylinux2014_x86_64.whl.metadata (2.7 kB)\n",
            "Requirement already satisfied: numpy>=1.19.0 in /usr/local/lib/python3.10/dist-packages (from spacy-transformers) (1.26.4)\n",
            "Requirement already satisfied: spacy-legacy<3.1.0,>=3.0.11 in /usr/local/lib/python3.10/dist-packages (from spacy<4.1.0,>=3.5.0->spacy-transformers) (3.0.12)\n",
            "Requirement already satisfied: spacy-loggers<2.0.0,>=1.0.0 in /usr/local/lib/python3.10/dist-packages (from spacy<4.1.0,>=3.5.0->spacy-transformers) (1.0.5)\n",
            "Requirement already satisfied: murmurhash<1.1.0,>=0.28.0 in /usr/local/lib/python3.10/dist-packages (from spacy<4.1.0,>=3.5.0->spacy-transformers) (1.0.10)\n",
            "Requirement already satisfied: cymem<2.1.0,>=2.0.2 in /usr/local/lib/python3.10/dist-packages (from spacy<4.1.0,>=3.5.0->spacy-transformers) (2.0.8)\n",
            "Requirement already satisfied: preshed<3.1.0,>=3.0.2 in /usr/local/lib/python3.10/dist-packages (from spacy<4.1.0,>=3.5.0->spacy-transformers) (3.0.9)\n",
            "Requirement already satisfied: thinc<8.3.0,>=8.2.2 in /usr/local/lib/python3.10/dist-packages (from spacy<4.1.0,>=3.5.0->spacy-transformers) (8.2.5)\n",
            "Requirement already satisfied: wasabi<1.2.0,>=0.9.1 in /usr/local/lib/python3.10/dist-packages (from spacy<4.1.0,>=3.5.0->spacy-transformers) (1.1.3)\n",
            "Requirement already satisfied: catalogue<2.1.0,>=2.0.6 in /usr/local/lib/python3.10/dist-packages (from spacy<4.1.0,>=3.5.0->spacy-transformers) (2.0.10)\n",
            "Requirement already satisfied: weasel<0.5.0,>=0.1.0 in /usr/local/lib/python3.10/dist-packages (from spacy<4.1.0,>=3.5.0->spacy-transformers) (0.4.1)\n",
            "Requirement already satisfied: typer<1.0.0,>=0.3.0 in /usr/local/lib/python3.10/dist-packages (from spacy<4.1.0,>=3.5.0->spacy-transformers) (0.12.3)\n",
            "Requirement already satisfied: tqdm<5.0.0,>=4.38.0 in /usr/local/lib/python3.10/dist-packages (from spacy<4.1.0,>=3.5.0->spacy-transformers) (4.66.5)\n",
            "Requirement already satisfied: requests<3.0.0,>=2.13.0 in /usr/local/lib/python3.10/dist-packages (from spacy<4.1.0,>=3.5.0->spacy-transformers) (2.32.3)\n",
            "Requirement already satisfied: pydantic!=1.8,!=1.8.1,<3.0.0,>=1.7.4 in /usr/local/lib/python3.10/dist-packages (from spacy<4.1.0,>=3.5.0->spacy-transformers) (2.8.2)\n",
            "Requirement already satisfied: jinja2 in /usr/local/lib/python3.10/dist-packages (from spacy<4.1.0,>=3.5.0->spacy-transformers) (3.1.4)\n",
            "Requirement already satisfied: setuptools in /usr/local/lib/python3.10/dist-packages (from spacy<4.1.0,>=3.5.0->spacy-transformers) (71.0.4)\n",
            "Requirement already satisfied: packaging>=20.0 in /usr/local/lib/python3.10/dist-packages (from spacy<4.1.0,>=3.5.0->spacy-transformers) (24.1)\n",
            "Requirement already satisfied: langcodes<4.0.0,>=3.2.0 in /usr/local/lib/python3.10/dist-packages (from spacy<4.1.0,>=3.5.0->spacy-transformers) (3.4.0)\n",
            "Requirement already satisfied: filelock in /usr/local/lib/python3.10/dist-packages (from torch>=1.8.0->spacy-transformers) (3.15.4)\n",
            "Requirement already satisfied: typing-extensions>=4.8.0 in /usr/local/lib/python3.10/dist-packages (from torch>=1.8.0->spacy-transformers) (4.12.2)\n",
            "Requirement already satisfied: sympy in /usr/local/lib/python3.10/dist-packages (from torch>=1.8.0->spacy-transformers) (1.13.1)\n",
            "Requirement already satisfied: networkx in /usr/local/lib/python3.10/dist-packages (from torch>=1.8.0->spacy-transformers) (3.3)\n",
            "Requirement already satisfied: fsspec in /usr/local/lib/python3.10/dist-packages (from torch>=1.8.0->spacy-transformers) (2024.6.1)\n",
            "Collecting nvidia-cuda-nvrtc-cu12==12.1.105 (from torch>=1.8.0->spacy-transformers)\n",
            "  Using cached nvidia_cuda_nvrtc_cu12-12.1.105-py3-none-manylinux1_x86_64.whl.metadata (1.5 kB)\n",
            "Collecting nvidia-cuda-runtime-cu12==12.1.105 (from torch>=1.8.0->spacy-transformers)\n",
            "  Using cached nvidia_cuda_runtime_cu12-12.1.105-py3-none-manylinux1_x86_64.whl.metadata (1.5 kB)\n",
            "Collecting nvidia-cuda-cupti-cu12==12.1.105 (from torch>=1.8.0->spacy-transformers)\n",
            "  Using cached nvidia_cuda_cupti_cu12-12.1.105-py3-none-manylinux1_x86_64.whl.metadata (1.6 kB)\n",
            "Collecting nvidia-cudnn-cu12==8.9.2.26 (from torch>=1.8.0->spacy-transformers)\n",
            "  Using cached nvidia_cudnn_cu12-8.9.2.26-py3-none-manylinux1_x86_64.whl.metadata (1.6 kB)\n",
            "Collecting nvidia-cublas-cu12==12.1.3.1 (from torch>=1.8.0->spacy-transformers)\n",
            "  Using cached nvidia_cublas_cu12-12.1.3.1-py3-none-manylinux1_x86_64.whl.metadata (1.5 kB)\n",
            "Collecting nvidia-cufft-cu12==11.0.2.54 (from torch>=1.8.0->spacy-transformers)\n",
            "  Using cached nvidia_cufft_cu12-11.0.2.54-py3-none-manylinux1_x86_64.whl.metadata (1.5 kB)\n",
            "Collecting nvidia-curand-cu12==10.3.2.106 (from torch>=1.8.0->spacy-transformers)\n",
            "  Using cached nvidia_curand_cu12-10.3.2.106-py3-none-manylinux1_x86_64.whl.metadata (1.5 kB)\n",
            "Collecting nvidia-cusolver-cu12==11.4.5.107 (from torch>=1.8.0->spacy-transformers)\n",
            "  Using cached nvidia_cusolver_cu12-11.4.5.107-py3-none-manylinux1_x86_64.whl.metadata (1.6 kB)\n",
            "Collecting nvidia-cusparse-cu12==12.1.0.106 (from torch>=1.8.0->spacy-transformers)\n",
            "  Using cached nvidia_cusparse_cu12-12.1.0.106-py3-none-manylinux1_x86_64.whl.metadata (1.6 kB)\n",
            "Collecting nvidia-nccl-cu12==2.20.5 (from torch>=1.8.0->spacy-transformers)\n",
            "  Using cached nvidia_nccl_cu12-2.20.5-py3-none-manylinux2014_x86_64.whl.metadata (1.8 kB)\n",
            "Collecting nvidia-nvtx-cu12==12.1.105 (from torch>=1.8.0->spacy-transformers)\n",
            "  Using cached nvidia_nvtx_cu12-12.1.105-py3-none-manylinux1_x86_64.whl.metadata (1.7 kB)\n",
            "Requirement already satisfied: triton==2.3.1 in /usr/local/lib/python3.10/dist-packages (from torch>=1.8.0->spacy-transformers) (2.3.1)\n",
            "Collecting nvidia-nvjitlink-cu12 (from nvidia-cusolver-cu12==11.4.5.107->torch>=1.8.0->spacy-transformers)\n",
            "  Using cached nvidia_nvjitlink_cu12-12.6.20-py3-none-manylinux2014_x86_64.whl.metadata (1.5 kB)\n",
            "Requirement already satisfied: huggingface-hub<1.0,>=0.19.3 in /usr/local/lib/python3.10/dist-packages (from transformers<4.37.0,>=3.4.0->spacy-transformers) (0.23.5)\n",
            "Requirement already satisfied: pyyaml>=5.1 in /usr/local/lib/python3.10/dist-packages (from transformers<4.37.0,>=3.4.0->spacy-transformers) (6.0.1)\n",
            "Requirement already satisfied: regex!=2019.12.17 in /usr/local/lib/python3.10/dist-packages (from transformers<4.37.0,>=3.4.0->spacy-transformers) (2024.5.15)\n",
            "Collecting tokenizers<0.19,>=0.14 (from transformers<4.37.0,>=3.4.0->spacy-transformers)\n",
            "  Downloading tokenizers-0.15.2-cp310-cp310-manylinux_2_17_x86_64.manylinux2014_x86_64.whl.metadata (6.7 kB)\n",
            "Requirement already satisfied: safetensors>=0.3.1 in /usr/local/lib/python3.10/dist-packages (from transformers<4.37.0,>=3.4.0->spacy-transformers) (0.4.4)\n",
            "Requirement already satisfied: language-data>=1.2 in /usr/local/lib/python3.10/dist-packages (from langcodes<4.0.0,>=3.2.0->spacy<4.1.0,>=3.5.0->spacy-transformers) (1.2.0)\n",
            "Requirement already satisfied: annotated-types>=0.4.0 in /usr/local/lib/python3.10/dist-packages (from pydantic!=1.8,!=1.8.1,<3.0.0,>=1.7.4->spacy<4.1.0,>=3.5.0->spacy-transformers) (0.7.0)\n",
            "Requirement already satisfied: pydantic-core==2.20.1 in /usr/local/lib/python3.10/dist-packages (from pydantic!=1.8,!=1.8.1,<3.0.0,>=1.7.4->spacy<4.1.0,>=3.5.0->spacy-transformers) (2.20.1)\n",
            "Requirement already satisfied: charset-normalizer<4,>=2 in /usr/local/lib/python3.10/dist-packages (from requests<3.0.0,>=2.13.0->spacy<4.1.0,>=3.5.0->spacy-transformers) (3.3.2)\n",
            "Requirement already satisfied: idna<4,>=2.5 in /usr/local/lib/python3.10/dist-packages (from requests<3.0.0,>=2.13.0->spacy<4.1.0,>=3.5.0->spacy-transformers) (3.7)\n",
            "Requirement already satisfied: urllib3<3,>=1.21.1 in /usr/local/lib/python3.10/dist-packages (from requests<3.0.0,>=2.13.0->spacy<4.1.0,>=3.5.0->spacy-transformers) (2.0.7)\n",
            "Requirement already satisfied: certifi>=2017.4.17 in /usr/local/lib/python3.10/dist-packages (from requests<3.0.0,>=2.13.0->spacy<4.1.0,>=3.5.0->spacy-transformers) (2024.7.4)\n",
            "Requirement already satisfied: blis<0.8.0,>=0.7.8 in /usr/local/lib/python3.10/dist-packages (from thinc<8.3.0,>=8.2.2->spacy<4.1.0,>=3.5.0->spacy-transformers) (0.7.11)\n",
            "Requirement already satisfied: confection<1.0.0,>=0.0.1 in /usr/local/lib/python3.10/dist-packages (from thinc<8.3.0,>=8.2.2->spacy<4.1.0,>=3.5.0->spacy-transformers) (0.1.5)\n",
            "Requirement already satisfied: click>=8.0.0 in /usr/local/lib/python3.10/dist-packages (from typer<1.0.0,>=0.3.0->spacy<4.1.0,>=3.5.0->spacy-transformers) (8.1.7)\n",
            "Requirement already satisfied: shellingham>=1.3.0 in /usr/local/lib/python3.10/dist-packages (from typer<1.0.0,>=0.3.0->spacy<4.1.0,>=3.5.0->spacy-transformers) (1.5.4)\n",
            "Requirement already satisfied: rich>=10.11.0 in /usr/local/lib/python3.10/dist-packages (from typer<1.0.0,>=0.3.0->spacy<4.1.0,>=3.5.0->spacy-transformers) (13.7.1)\n",
            "Requirement already satisfied: cloudpathlib<1.0.0,>=0.7.0 in /usr/local/lib/python3.10/dist-packages (from weasel<0.5.0,>=0.1.0->spacy<4.1.0,>=3.5.0->spacy-transformers) (0.18.1)\n",
            "Requirement already satisfied: smart-open<8.0.0,>=5.2.1 in /usr/local/lib/python3.10/dist-packages (from weasel<0.5.0,>=0.1.0->spacy<4.1.0,>=3.5.0->spacy-transformers) (7.0.4)\n",
            "Requirement already satisfied: MarkupSafe>=2.0 in /usr/local/lib/python3.10/dist-packages (from jinja2->spacy<4.1.0,>=3.5.0->spacy-transformers) (2.1.5)\n",
            "Requirement already satisfied: mpmath<1.4,>=1.1.0 in /usr/local/lib/python3.10/dist-packages (from sympy->torch>=1.8.0->spacy-transformers) (1.3.0)\n",
            "Requirement already satisfied: marisa-trie>=0.7.7 in /usr/local/lib/python3.10/dist-packages (from language-data>=1.2->langcodes<4.0.0,>=3.2.0->spacy<4.1.0,>=3.5.0->spacy-transformers) (1.2.0)\n",
            "Requirement already satisfied: markdown-it-py>=2.2.0 in /usr/local/lib/python3.10/dist-packages (from rich>=10.11.0->typer<1.0.0,>=0.3.0->spacy<4.1.0,>=3.5.0->spacy-transformers) (3.0.0)\n",
            "Requirement already satisfied: pygments<3.0.0,>=2.13.0 in /usr/local/lib/python3.10/dist-packages (from rich>=10.11.0->typer<1.0.0,>=0.3.0->spacy<4.1.0,>=3.5.0->spacy-transformers) (2.16.1)\n",
            "Requirement already satisfied: wrapt in /usr/local/lib/python3.10/dist-packages (from smart-open<8.0.0,>=5.2.1->weasel<0.5.0,>=0.1.0->spacy<4.1.0,>=3.5.0->spacy-transformers) (1.16.0)\n",
            "Requirement already satisfied: mdurl~=0.1 in /usr/local/lib/python3.10/dist-packages (from markdown-it-py>=2.2.0->rich>=10.11.0->typer<1.0.0,>=0.3.0->spacy<4.1.0,>=3.5.0->spacy-transformers) (0.1.2)\n",
            "Downloading spacy_transformers-1.3.5-cp310-cp310-manylinux_2_17_x86_64.manylinux2014_x86_64.whl (197 kB)\n",
            "\u001b[2K   \u001b[90m━━━━━━━━━━━━━━━━━━━━━━━━━━━━━━━━━━━━━━━━\u001b[0m \u001b[32m197.8/197.8 kB\u001b[0m \u001b[31m11.2 MB/s\u001b[0m eta \u001b[36m0:00:00\u001b[0m\n",
            "\u001b[?25hDownloading spacy_alignments-0.9.1-cp310-cp310-manylinux_2_17_x86_64.manylinux2014_x86_64.whl (313 kB)\n",
            "\u001b[2K   \u001b[90m━━━━━━━━━━━━━━━━━━━━━━━━━━━━━━━━━━━━━━━━\u001b[0m \u001b[32m314.0/314.0 kB\u001b[0m \u001b[31m17.2 MB/s\u001b[0m eta \u001b[36m0:00:00\u001b[0m\n",
            "\u001b[?25hUsing cached nvidia_cublas_cu12-12.1.3.1-py3-none-manylinux1_x86_64.whl (410.6 MB)\n",
            "Using cached nvidia_cuda_cupti_cu12-12.1.105-py3-none-manylinux1_x86_64.whl (14.1 MB)\n",
            "Using cached nvidia_cuda_nvrtc_cu12-12.1.105-py3-none-manylinux1_x86_64.whl (23.7 MB)\n",
            "Using cached nvidia_cuda_runtime_cu12-12.1.105-py3-none-manylinux1_x86_64.whl (823 kB)\n",
            "Using cached nvidia_cudnn_cu12-8.9.2.26-py3-none-manylinux1_x86_64.whl (731.7 MB)\n",
            "Using cached nvidia_cufft_cu12-11.0.2.54-py3-none-manylinux1_x86_64.whl (121.6 MB)\n",
            "Using cached nvidia_curand_cu12-10.3.2.106-py3-none-manylinux1_x86_64.whl (56.5 MB)\n",
            "Using cached nvidia_cusolver_cu12-11.4.5.107-py3-none-manylinux1_x86_64.whl (124.2 MB)\n",
            "Using cached nvidia_cusparse_cu12-12.1.0.106-py3-none-manylinux1_x86_64.whl (196.0 MB)\n",
            "Using cached nvidia_nccl_cu12-2.20.5-py3-none-manylinux2014_x86_64.whl (176.2 MB)\n",
            "Using cached nvidia_nvtx_cu12-12.1.105-py3-none-manylinux1_x86_64.whl (99 kB)\n",
            "Downloading transformers-4.36.2-py3-none-any.whl (8.2 MB)\n",
            "\u001b[2K   \u001b[90m━━━━━━━━━━━━━━━━━━━━━━━━━━━━━━━━━━━━━━━━\u001b[0m \u001b[32m8.2/8.2 MB\u001b[0m \u001b[31m45.5 MB/s\u001b[0m eta \u001b[36m0:00:00\u001b[0m\n",
            "\u001b[?25hDownloading tokenizers-0.15.2-cp310-cp310-manylinux_2_17_x86_64.manylinux2014_x86_64.whl (3.6 MB)\n",
            "\u001b[2K   \u001b[90m━━━━━━━━━━━━━━━━━━━━━━━━━━━━━━━━━━━━━━━━\u001b[0m \u001b[32m3.6/3.6 MB\u001b[0m \u001b[31m75.8 MB/s\u001b[0m eta \u001b[36m0:00:00\u001b[0m\n",
            "\u001b[?25hUsing cached nvidia_nvjitlink_cu12-12.6.20-py3-none-manylinux2014_x86_64.whl (19.7 MB)\n",
            "Installing collected packages: spacy-alignments, nvidia-nvtx-cu12, nvidia-nvjitlink-cu12, nvidia-nccl-cu12, nvidia-curand-cu12, nvidia-cufft-cu12, nvidia-cuda-runtime-cu12, nvidia-cuda-nvrtc-cu12, nvidia-cuda-cupti-cu12, nvidia-cublas-cu12, nvidia-cusparse-cu12, nvidia-cudnn-cu12, tokenizers, nvidia-cusolver-cu12, transformers, spacy-transformers\n",
            "  Attempting uninstall: tokenizers\n",
            "    Found existing installation: tokenizers 0.19.1\n",
            "    Uninstalling tokenizers-0.19.1:\n",
            "      Successfully uninstalled tokenizers-0.19.1\n",
            "  Attempting uninstall: transformers\n",
            "    Found existing installation: transformers 4.42.4\n",
            "    Uninstalling transformers-4.42.4:\n",
            "      Successfully uninstalled transformers-4.42.4\n",
            "Successfully installed nvidia-cublas-cu12-12.1.3.1 nvidia-cuda-cupti-cu12-12.1.105 nvidia-cuda-nvrtc-cu12-12.1.105 nvidia-cuda-runtime-cu12-12.1.105 nvidia-cudnn-cu12-8.9.2.26 nvidia-cufft-cu12-11.0.2.54 nvidia-curand-cu12-10.3.2.106 nvidia-cusolver-cu12-11.4.5.107 nvidia-cusparse-cu12-12.1.0.106 nvidia-nccl-cu12-2.20.5 nvidia-nvjitlink-cu12-12.6.20 nvidia-nvtx-cu12-12.1.105 spacy-alignments-0.9.1 spacy-transformers-1.3.5 tokenizers-0.15.2 transformers-4.36.2\n"
          ]
        }
      ]
    },
    {
      "cell_type": "code",
      "execution_count": 18,
      "metadata": {
        "id": "R-LmhdNRWtCj"
      },
      "outputs": [],
      "source": [
        "import spacy\n",
        "from spacy.tokens import DocBin\n",
        "from tqdm import tqdm\n",
        "import json\n",
        "import random"
      ]
    },
    {
      "cell_type": "markdown",
      "source": [
        "# Reading and Processing Annotated Data"
      ],
      "metadata": {
        "id": "sQ8JGXuE3-Te"
      }
    },
    {
      "cell_type": "code",
      "source": [
        "db = DocBin() # creating a DocBin object for storing Doc objects"
      ],
      "metadata": {
        "id": "9TAgK6Sj32vB"
      },
      "execution_count": 19,
      "outputs": []
    },
    {
      "cell_type": "code",
      "execution_count": 20,
      "metadata": {
        "id": "oxLxZ2zzWtnD"
      },
      "outputs": [],
      "source": [
        "# Reading Our Annotated Data from a JSON file\n",
        "\n",
        "with open('/content/drive/My Drive/JD/annotations.json') as readfile:\n",
        "    train_data = json.load(readfile)"
      ]
    },
    {
      "cell_type": "code",
      "source": [
        "train_data.keys()"
      ],
      "metadata": {
        "colab": {
          "base_uri": "https://localhost:8080/"
        },
        "id": "cScbLp8M6n8p",
        "outputId": "97b981ea-15b0-4a0f-a3ad-e239a89b5f0a"
      },
      "execution_count": 21,
      "outputs": [
        {
          "output_type": "execute_result",
          "data": {
            "text/plain": [
              "dict_keys(['classes', 'annotations'])"
            ]
          },
          "metadata": {},
          "execution_count": 21
        }
      ]
    },
    {
      "cell_type": "code",
      "source": [
        "train_data['classes'] # Annotation Labels"
      ],
      "metadata": {
        "colab": {
          "base_uri": "https://localhost:8080/"
        },
        "id": "C1KM-_KW6uFR",
        "outputId": "d411451d-a55d-4f99-c94a-f6bb9972f96c"
      },
      "execution_count": 22,
      "outputs": [
        {
          "output_type": "execute_result",
          "data": {
            "text/plain": [
              "['YEARS_OF_EXPERIENCE',\n",
              " 'EDUCATION',\n",
              " 'ROLE',\n",
              " 'TOOLS_TECH',\n",
              " 'CERTIFICATIONS',\n",
              " 'LOC',\n",
              " 'CONCEPTS',\n",
              " 'SOFT_SKILLS',\n",
              " 'DOMAIN']"
            ]
          },
          "metadata": {},
          "execution_count": 22
        }
      ]
    },
    {
      "cell_type": "code",
      "source": [
        "train_data['annotations'][0]\n",
        "\n",
        "# Consists of the job description and the corresponding entities (character offsets and label)"
      ],
      "metadata": {
        "colab": {
          "base_uri": "https://localhost:8080/"
        },
        "id": "4j48yCcf6z8L",
        "outputId": "1fc32c16-27af-46b2-8d00-9243c500221b"
      },
      "execution_count": 23,
      "outputs": [
        {
          "output_type": "execute_result",
          "data": {
            "text/plain": [
              "['\"Diagnose computer errors and triage to determine the urgency of issues Install, configure and upgrade  PC software and operating systems Facilitate  Onsite and escalation support activities Provide technical support over the phone or  Web to end users /clients Use remote support software to take control of end-users computers to troubleshoot, diagnose and resolve issues Setup new user and email accounts Assist end-users with password changes Setup email on  Computers and  Mobile devices Document  Resolution steps for closed tickets and notes for escalations Create and maintain documentation about customer networks Escalate to higher tier support to resolve customer issues within  SLACreate and maintain documentation about  Customer networks Troubleshoot software, hardware, and network issues.  Qualifications Bachelors degree preferred in  Computer  Science or related field 3+ years of helpdesk experience or working with a helpdesk or  IT provider Knowledge and hands-on experience providing support to users using  Windows 7,  Windows 8, and other mainstream  Microsoft applications\"\\r',\n",
              " {'entities': [[1, 25, 'CONCEPTS'],\n",
              "   [72, 79, 'CONCEPTS'],\n",
              "   [81, 90, 'CONCEPTS'],\n",
              "   [95, 102, 'CONCEPTS'],\n",
              "   [104, 115, 'TOOLS_TECH'],\n",
              "   [120, 137, 'TOOLS_TECH'],\n",
              "   [266, 289, 'TOOLS_TECH'],\n",
              "   [332, 344, 'CONCEPTS'],\n",
              "   [346, 373, 'CONCEPTS'],\n",
              "   [374, 407, 'CONCEPTS'],\n",
              "   [430, 446, 'CONCEPTS'],\n",
              "   [463, 472, 'TOOLS_TECH'],\n",
              "   [478, 492, 'TOOLS_TECH'],\n",
              "   [605, 622, 'CONCEPTS'],\n",
              "   [734, 751, 'CONCEPTS'],\n",
              "   [752, 804, 'CONCEPTS'],\n",
              "   [821, 886, 'EDUCATION'],\n",
              "   [887, 918, 'YEARS_OF_EXPERIENCE'],\n",
              "   [950, 952, 'DOMAIN'],\n",
              "   [1030, 1039, 'TOOLS_TECH'],\n",
              "   [1042, 1051, 'TOOLS_TECH'],\n",
              "   [1075, 1097, 'TOOLS_TECH']]}]"
            ]
          },
          "metadata": {},
          "execution_count": 23
        }
      ]
    },
    {
      "cell_type": "code",
      "execution_count": 24,
      "metadata": {
        "colab": {
          "base_uri": "https://localhost:8080/"
        },
        "id": "PxGhTsIzWvWO",
        "outputId": "d5733a1a-ecbb-44f3-c44c-0418516043c6"
      },
      "outputs": [
        {
          "output_type": "stream",
          "name": "stderr",
          "text": [
            "100%|██████████| 31/31 [00:00<00:00, 131.92it/s]\n"
          ]
        }
      ],
      "source": [
        "# Processing the annotated data\n",
        "\n",
        "# for each Job description and corresponding annotations in the data\n",
        "for text, annot in tqdm(train_data['annotations']):\n",
        "    doc = nlp.make_doc(text) # create a Doc object from the job description\n",
        "    ents = [] # Empty list to hold entity spans\n",
        "\n",
        "    # for each entity annotation\n",
        "    for start, end, label in annot[\"entities\"]:\n",
        "\n",
        "      # Create a span object from the character offsets and label\n",
        "      span = doc.char_span(start, end, label=label, alignment_mode=\"contract\")\n",
        "\n",
        "      if span is None:\n",
        "        print(\"Skipping entity\")\n",
        "      else: # Add valid span to the list of entities\n",
        "        ents.append(span)\n",
        "\n",
        "    # Assign list of entities to the Doc object\n",
        "    doc.ents = ents\n",
        "    # Add processed Doc object to the DocBin\n",
        "    db.add(doc)\n",
        "\n",
        "db.to_disk(\"./training_data.spacy\") # save the docbin object"
      ]
    },
    {
      "cell_type": "markdown",
      "source": [
        "# Creating Training and Validation DocBins"
      ],
      "metadata": {
        "id": "SJgWl9Cr8mGJ"
      }
    },
    {
      "cell_type": "code",
      "source": [
        "# loading a new spacy model\n",
        "nlp = spacy.blank(\"en\")\n",
        "\n",
        "# Load the existing DocBin object\n",
        "db = DocBin().from_disk(\"./training_data.spacy\")\n",
        "\n",
        "# Convert DocBin to list of Doc objects\n",
        "docs = list(db.get_docs(nlp.vocab))\n",
        "\n",
        "# Shuffle the docs\n",
        "random.shuffle(docs)\n",
        "\n",
        "# Define split ratios\n",
        "train_ratio = 0.9\n",
        "val_ratio = 0.1\n",
        "\n",
        "# Calculate split indices\n",
        "train_size = int(train_ratio * len(docs))\n",
        "val_size = len(docs) - train_size\n",
        "\n",
        "# Split the docs\n",
        "train_docs = docs[:train_size]\n",
        "val_docs = docs[train_size:]\n",
        "\n",
        "# Create new DocBin objects for each split\n",
        "train_db = DocBin(docs=train_docs)\n",
        "val_db = DocBin(docs=val_docs)\n",
        "\n",
        "# Save the new DocBin objects\n",
        "train_db.to_disk(\"./train_data.spacy\")\n",
        "val_db.to_disk(\"./val_data.spacy\")\n",
        "\n",
        "print(f\"Training set size: {train_size} docs\")\n",
        "print(f\"Validation set size: {val_size} docs\")\n"
      ],
      "metadata": {
        "colab": {
          "base_uri": "https://localhost:8080/"
        },
        "id": "0P9OT0L8u24l",
        "outputId": "bacc9140-35ab-405c-8853-853ce492aa04"
      },
      "execution_count": 25,
      "outputs": [
        {
          "output_type": "stream",
          "name": "stderr",
          "text": [
            "/usr/local/lib/python3.10/dist-packages/spacy/util.py:1740: UserWarning: [W111] Jupyter notebook detected: if using `prefer_gpu()` or `require_gpu()`, include it in the same cell right before `spacy.load()` to ensure that the model is loaded on the correct device. More information: http://spacy.io/usage/v3#jupyter-notebook-gpu\n",
            "  warnings.warn(Warnings.W111)\n"
          ]
        },
        {
          "output_type": "stream",
          "name": "stdout",
          "text": [
            "Training set size: 27 docs\n",
            "Validation set size: 4 docs\n"
          ]
        }
      ]
    },
    {
      "cell_type": "markdown",
      "source": [
        "# Initializing Configuration File for Training spaCy Model"
      ],
      "metadata": {
        "id": "Sd37l9nWAVc7"
      }
    },
    {
      "cell_type": "markdown",
      "source": [
        "Reference: https://spacy.io/usage/training"
      ],
      "metadata": {
        "id": "_-i3_4TmAr-Y"
      }
    },
    {
      "cell_type": "code",
      "execution_count": 26,
      "metadata": {
        "colab": {
          "base_uri": "https://localhost:8080/"
        },
        "id": "wLthMiswWx-n",
        "outputId": "d837a9dc-da6f-44f5-941e-e506280aa675"
      },
      "outputs": [
        {
          "output_type": "stream",
          "name": "stdout",
          "text": [
            "/usr/local/lib/python3.10/dist-packages/transformers/utils/generic.py:441: UserWarning: torch.utils._pytree._register_pytree_node is deprecated. Please use torch.utils._pytree.register_pytree_node instead.\n",
            "  _torch_pytree._register_pytree_node(\n",
            "/usr/local/lib/python3.10/dist-packages/transformers/utils/generic.py:309: UserWarning: torch.utils._pytree._register_pytree_node is deprecated. Please use torch.utils._pytree.register_pytree_node instead.\n",
            "  _torch_pytree._register_pytree_node(\n",
            "\u001b[38;5;4mℹ Generated config template specific for your use case\u001b[0m\n",
            "- Language: en\n",
            "- Pipeline: ner\n",
            "- Optimize for: efficiency\n",
            "- Hardware: CPU\n",
            "- Transformer: None\n",
            "\u001b[38;5;2m✔ Auto-filled config with all values\u001b[0m\n",
            "\u001b[38;5;2m✔ Saved config\u001b[0m\n",
            "config.cfg\n",
            "You can now add your data and train your pipeline:\n",
            "python -m spacy train config.cfg --paths.train ./train.spacy --paths.dev ./dev.spacy\n"
          ]
        }
      ],
      "source": [
        "! python -m spacy init config config.cfg --lang en --pipeline ner --optimize efficiency --force"
      ]
    },
    {
      "cell_type": "markdown",
      "source": [
        "# Training"
      ],
      "metadata": {
        "id": "rLzJiWDNAmag"
      }
    },
    {
      "cell_type": "code",
      "execution_count": 27,
      "metadata": {
        "colab": {
          "base_uri": "https://localhost:8080/"
        },
        "id": "Qz9IcPK3W11w",
        "outputId": "fbd8b12c-434e-46ad-ec0e-aa8d1226ed22"
      },
      "outputs": [
        {
          "output_type": "stream",
          "name": "stdout",
          "text": [
            "\u001b[38;5;4mℹ Saving to output directory: .\u001b[0m\n",
            "\u001b[38;5;4mℹ Using CPU\u001b[0m\n",
            "\u001b[38;5;4mℹ To switch to GPU 0, use the option: --gpu-id 0\u001b[0m\n",
            "\u001b[1m\n",
            "=========================== Initializing pipeline ===========================\u001b[0m\n",
            "/usr/local/lib/python3.10/dist-packages/transformers/utils/generic.py:441: UserWarning: torch.utils._pytree._register_pytree_node is deprecated. Please use torch.utils._pytree.register_pytree_node instead.\n",
            "  _torch_pytree._register_pytree_node(\n",
            "/usr/local/lib/python3.10/dist-packages/transformers/utils/generic.py:309: UserWarning: torch.utils._pytree._register_pytree_node is deprecated. Please use torch.utils._pytree.register_pytree_node instead.\n",
            "  _torch_pytree._register_pytree_node(\n",
            "\u001b[38;5;2m✔ Initialized pipeline\u001b[0m\n",
            "\u001b[1m\n",
            "============================= Training pipeline =============================\u001b[0m\n",
            "\u001b[38;5;4mℹ Pipeline: ['tok2vec', 'ner']\u001b[0m\n",
            "\u001b[38;5;4mℹ Initial learn rate: 0.001\u001b[0m\n",
            "E    #       LOSS TOK2VEC  LOSS NER  ENTS_F  ENTS_P  ENTS_R  SCORE \n",
            "---  ------  ------------  --------  ------  ------  ------  ------\n",
            "  0       0          0.00    549.13    0.00    0.00    0.00    0.00\n",
            "  7     200      14108.39  21514.90    5.21   13.16    3.25    0.05\n",
            " 14     400       6368.96   9186.67   12.56   20.29    9.09    0.13\n",
            " 22     600       3184.33   5160.68   14.85   22.67   11.04    0.15\n",
            " 29     800       2963.91   2668.67   18.67   29.58   13.64    0.19\n",
            " 37    1000       1722.67   1597.16   17.02   24.69   12.99    0.17\n",
            " 44    1200       1952.50   1152.70   20.35   31.94   14.94    0.20\n",
            " 51    1400       1662.35    938.54   15.11   23.94   11.04    0.15\n",
            " 59    1600       2978.24    888.26   21.46   31.65   16.23    0.21\n",
            " 66    1800       2651.15    787.71   23.83   34.57   18.18    0.24\n",
            " 74    2000       1630.26    579.91   22.32   32.91   16.88    0.22\n",
            " 81    2200       2741.55    757.80   25.66   40.28   18.83    0.26\n",
            " 88    2400       2035.35    524.63   22.78   32.53   17.53    0.23\n",
            " 96    2600       2429.65    537.38   25.11   40.58   18.18    0.25\n",
            "103    2800       2177.30    445.45   21.70   39.66   14.94    0.22\n",
            "111    3000       2288.16    396.56   23.11   36.62   16.88    0.23\n",
            "118    3200       3995.14    491.42   22.43   40.00   15.58    0.22\n",
            "125    3400       2487.09    380.25   18.01   33.33   12.34    0.18\n",
            "133    3600       1912.97    300.85   20.09   30.67   14.94    0.20\n",
            "140    3800       1481.26    242.78   20.00   33.33   14.29    0.20\n",
            "\u001b[38;5;2m✔ Saved pipeline to output directory\u001b[0m\n",
            "model-last\n"
          ]
        }
      ],
      "source": [
        "! python -m spacy train config.cfg --output ./ --paths.train ./train_data.spacy --paths.dev ./val_data.spacy"
      ]
    },
    {
      "cell_type": "markdown",
      "source": [
        "# Testing the Model on a JD & Visualizing the Results"
      ],
      "metadata": {
        "id": "IMBbHj509wIy"
      }
    },
    {
      "cell_type": "code",
      "execution_count": null,
      "metadata": {
        "id": "J99DRZSMW3hy"
      },
      "outputs": [],
      "source": [
        "nlp_ner = spacy.load(\"./model-best\")"
      ]
    },
    {
      "cell_type": "code",
      "execution_count": null,
      "metadata": {
        "id": "IdXcSjpiW9ff"
      },
      "outputs": [],
      "source": [
        "doc = nlp_ner('''Pocket  Gems seeks to build the greatest mobile games and most compelling interactive entertainment in the world.  Thats the mission our founders began with, in an apartment above a pizza shop back in 2009, and it continues to inspire us today.  Since then, weve grown to over 200 people headquartered in  San  Francisco, and with $155 million in backing from  Sequoia  Capital and  Tencent, were constantly breaking new ground in mobile entertainment.  Our products have been downloaded over 500 million times by players around the world and have grossed over $1 billion in revenue.  We continue to release brand new content for  Episode, a mobile storytelling network and platform, and  War  Dragons, a visually stunning 3 D real-time strategy game.  As our community of players continues to grow, were committed to building diverse and inclusive environments across our teams, and in our games.  As a  Data  Scientist, youll work with product managers to set the analytics and data science agenda for one of our game studios.  Youll carry out research and development projects aimed at optimizing player retention, youll deploy machine learning models, and youll perform deep-dive analyses to understand changes in key metrics.  Along the way, you'll develop a deep understanding of mobile gaming and will work with our high-producing and fast-paced team.  Your work will have a significant, lasting impact on the health of our games.  You'll have a great deal of independence  we'll expect you to use it wisely.  What  Weve  Accomplished  Built models to estimate the lifetime value of every player in our games  Deployed systems to monitor player satisfaction with our games  Developed models that recommend more relevant content to players  What  Youll  Do  Drive analytics and data science initiatives for one of our game studios  Design and deploy live machine learning models to optimize player experience  Perform deep-dive analyses and research projects to understand changes in key metrics  Deliver results and recommendations to key stakeholders on a regular basis  Collaborate with other data analysts and data scientists on the analytics team  Collaborate with cross functional partners on other teams  What  Youll  Bring  To  The  Analytics  Team  Bachelors degree   AND  4 years of professional experience in a similar/related role   OR  2 years of professional experience in a similar/related role  AND  Masters/ Ph D in a similar/related field such as data science or analytics  Expert command of  SQL  youll be using it daily  Firm grasp of  Python, including  Pandas,  Scikit-learn, and  Jupyter notebooks  Excellent knowledge of common machine learning models  both supervised and unsupervised (e.g., linear/logistic regression, tree-based models, gradient boosting, neural networks, clustering methods, etc.)  and when to use them  Solid understanding of statistics  Strong understanding of  A/ B testing (design and analysis)  Knack for data visualization and ability to present data in a clear, concise manner  Ability and desire to present complex results to non-technical audiences  Outstanding communication skills and ability to work collaboratively with other roles  Ambition to own the analytics and data science function for a large game studio  Extra  Gems  For  Experience working in the gaming industry  Experience developing and deploying production code  Leadership and/or consulting experience  Read more about what weve been up to!  Pocket  Gems  Blog  At  Pocket  Gems, we're building teams that value originality, inclusivity, and accountability -- and we hope to engage with talent based on these and other core values.  We also offer competitive perks, such as flexible vacation, 401k matching, and a generous benefits package,  Pocket  Gems is an equal opportunity employer.  We do not discriminate based on race, color, ethnicity, ancestry, national origin, religion, sex, gender, gender identity, gender expression, sexual orientation, age, disability, veteran status, genetic information, marital status or any legally protected status.  Pursuant to the  San  Francisco  Fair  Chance  Ordinance, we will consider for employment qualified applicants with arrest and conviction records.''')"
      ]
    },
    {
      "cell_type": "code",
      "execution_count": null,
      "metadata": {
        "id": "dgshiNCu2VYl"
      },
      "outputs": [],
      "source": [
        "colors = {'YEARS_OF_EXPERIENCE': \"red\",\n",
        " 'EDUCATION': \"blue\",\n",
        " 'ROLE': \"green\",\n",
        " 'TOOLS_TECH': \"yellow\",\n",
        " 'CERTIFICATIONS': \"orange\",\n",
        " 'LOC': \"purple\",\n",
        " 'CONCEPTS': \"grey\",\n",
        " 'SOFT_SKILLS': \"pink\",\n",
        " 'DOMAIN': \"violet\"}\n",
        "options = {\"colors\": colors}"
      ]
    },
    {
      "cell_type": "code",
      "execution_count": null,
      "metadata": {
        "colab": {
          "base_uri": "https://localhost:8080/",
          "height": 997
        },
        "id": "PJuolyZjW_PX",
        "outputId": "57077587-2fa6-4bac-905b-f86ea6140724"
      },
      "outputs": [
        {
          "output_type": "display_data",
          "data": {
            "text/plain": [
              "<IPython.core.display.HTML object>"
            ],
            "text/html": [
              "<span class=\"tex2jax_ignore\"><div class=\"entities\" style=\"line-height: 2.5; direction: ltr\">Pocket  Gems seeks to build the greatest mobile games and most compelling interactive entertainment in the world.  Thats the mission our founders began with, in an apartment above a pizza shop back in 2009, and it continues to inspire us today.  Since then, weve grown to over 200 people headquartered in  San  Francisco, and with $155 million in backing from  Sequoia  Capital and  \n",
              "<mark class=\"entity\" style=\"background: grey; padding: 0.45em 0.6em; margin: 0 0.25em; line-height: 1; border-radius: 0.35em;\">\n",
              "    Tencent\n",
              "    <span style=\"font-size: 0.8em; font-weight: bold; line-height: 1; border-radius: 0.35em; vertical-align: middle; margin-left: 0.5rem\">CONCEPTS</span>\n",
              "</mark>\n",
              ", were constantly breaking new ground \n",
              "<mark class=\"entity\" style=\"background: yello; padding: 0.45em 0.6em; margin: 0 0.25em; line-height: 1; border-radius: 0.35em;\">\n",
              "    in mobile entertainment.\n",
              "    <span style=\"font-size: 0.8em; font-weight: bold; line-height: 1; border-radius: 0.35em; vertical-align: middle; margin-left: 0.5rem\">TOOLS_TECH</span>\n",
              "</mark>\n",
              "  Our products have been downloaded over 500 million times by players around the world and have grossed over $1 billion in revenue.  We continue to release brand new content for  Episode, a mobile storytelling network and platform, and  War  Dragons, a visually stunning 3 D \n",
              "<mark class=\"entity\" style=\"background: violet; padding: 0.45em 0.6em; margin: 0 0.25em; line-height: 1; border-radius: 0.35em;\">\n",
              "    real-time strategy\n",
              "    <span style=\"font-size: 0.8em; font-weight: bold; line-height: 1; border-radius: 0.35em; vertical-align: middle; margin-left: 0.5rem\">DOMAIN</span>\n",
              "</mark>\n",
              " game.  As our community of players continues to grow, were committed to building diverse and inclusive environments across our teams, and in our games.  As a  \n",
              "<mark class=\"entity\" style=\"background: green; padding: 0.45em 0.6em; margin: 0 0.25em; line-height: 1; border-radius: 0.35em;\">\n",
              "    Data  Scientist\n",
              "    <span style=\"font-size: 0.8em; font-weight: bold; line-height: 1; border-radius: 0.35em; vertical-align: middle; margin-left: 0.5rem\">ROLE</span>\n",
              "</mark>\n",
              ", youll work with product managers to set the \n",
              "<mark class=\"entity\" style=\"background: grey; padding: 0.45em 0.6em; margin: 0 0.25em; line-height: 1; border-radius: 0.35em;\">\n",
              "    analytics\n",
              "    <span style=\"font-size: 0.8em; font-weight: bold; line-height: 1; border-radius: 0.35em; vertical-align: middle; margin-left: 0.5rem\">CONCEPTS</span>\n",
              "</mark>\n",
              " and data science agenda for one of our game studios.  Youll carry out research and development projects aimed at optimizing player retention, youll deploy \n",
              "<mark class=\"entity\" style=\"background: grey; padding: 0.45em 0.6em; margin: 0 0.25em; line-height: 1; border-radius: 0.35em;\">\n",
              "    machine learning models\n",
              "    <span style=\"font-size: 0.8em; font-weight: bold; line-height: 1; border-radius: 0.35em; vertical-align: middle; margin-left: 0.5rem\">CONCEPTS</span>\n",
              "</mark>\n",
              ", and youll perform deep-dive analyses to understand changes in \n",
              "<mark class=\"entity\" style=\"background: grey; padding: 0.45em 0.6em; margin: 0 0.25em; line-height: 1; border-radius: 0.35em;\">\n",
              "    key metrics.\n",
              "    <span style=\"font-size: 0.8em; font-weight: bold; line-height: 1; border-radius: 0.35em; vertical-align: middle; margin-left: 0.5rem\">CONCEPTS</span>\n",
              "</mark>\n",
              "  Along the way, you'll develop a deep understanding of \n",
              "<mark class=\"entity\" style=\"background: grey; padding: 0.45em 0.6em; margin: 0 0.25em; line-height: 1; border-radius: 0.35em;\">\n",
              "    mobile gaming\n",
              "    <span style=\"font-size: 0.8em; font-weight: bold; line-height: 1; border-radius: 0.35em; vertical-align: middle; margin-left: 0.5rem\">CONCEPTS</span>\n",
              "</mark>\n",
              " and will work with our high-producing and fast-paced team.  Your work will have a significant, lasting impact on the health of our games.  You'll \n",
              "<mark class=\"entity\" style=\"background: pink; padding: 0.45em 0.6em; margin: 0 0.25em; line-height: 1; border-radius: 0.35em;\">\n",
              "    have a great deal of independence\n",
              "    <span style=\"font-size: 0.8em; font-weight: bold; line-height: 1; border-radius: 0.35em; vertical-align: middle; margin-left: 0.5rem\">SOFT_SKILLS</span>\n",
              "</mark>\n",
              "  we'll expect you to use it wisely.  What  Weve  Accomplished  Built models to estimate the lifetime value of every player in our games  Deployed systems to monitor player satisfaction with our games  Developed models that recommend more relevant content to players  What  Youll  Do  \n",
              "<mark class=\"entity\" style=\"background: grey; padding: 0.45em 0.6em; margin: 0 0.25em; line-height: 1; border-radius: 0.35em;\">\n",
              "    Drive analytics\n",
              "    <span style=\"font-size: 0.8em; font-weight: bold; line-height: 1; border-radius: 0.35em; vertical-align: middle; margin-left: 0.5rem\">CONCEPTS</span>\n",
              "</mark>\n",
              " and data science initiatives for one of our game studios  Design and deploy live \n",
              "<mark class=\"entity\" style=\"background: yello; padding: 0.45em 0.6em; margin: 0 0.25em; line-height: 1; border-radius: 0.35em;\">\n",
              "    machine learning models\n",
              "    <span style=\"font-size: 0.8em; font-weight: bold; line-height: 1; border-radius: 0.35em; vertical-align: middle; margin-left: 0.5rem\">TOOLS_TECH</span>\n",
              "</mark>\n",
              " to optimize player experience  Perform deep-\n",
              "<mark class=\"entity\" style=\"background: grey; padding: 0.45em 0.6em; margin: 0 0.25em; line-height: 1; border-radius: 0.35em;\">\n",
              "    dive analyses\n",
              "    <span style=\"font-size: 0.8em; font-weight: bold; line-height: 1; border-radius: 0.35em; vertical-align: middle; margin-left: 0.5rem\">CONCEPTS</span>\n",
              "</mark>\n",
              " and research projects to understand changes in \n",
              "<mark class=\"entity\" style=\"background: grey; padding: 0.45em 0.6em; margin: 0 0.25em; line-height: 1; border-radius: 0.35em;\">\n",
              "    key metrics\n",
              "    <span style=\"font-size: 0.8em; font-weight: bold; line-height: 1; border-radius: 0.35em; vertical-align: middle; margin-left: 0.5rem\">CONCEPTS</span>\n",
              "</mark>\n",
              "  Deliver results and recommendations to key stakeholders on a regular basis  Collaborate with other data analysts and data scientists on the \n",
              "<mark class=\"entity\" style=\"background: grey; padding: 0.45em 0.6em; margin: 0 0.25em; line-height: 1; border-radius: 0.35em;\">\n",
              "    analytics\n",
              "    <span style=\"font-size: 0.8em; font-weight: bold; line-height: 1; border-radius: 0.35em; vertical-align: middle; margin-left: 0.5rem\">CONCEPTS</span>\n",
              "</mark>\n",
              " team  \n",
              "<mark class=\"entity\" style=\"background: pink; padding: 0.45em 0.6em; margin: 0 0.25em; line-height: 1; border-radius: 0.35em;\">\n",
              "    Collaborate with cross functional partners\n",
              "    <span style=\"font-size: 0.8em; font-weight: bold; line-height: 1; border-radius: 0.35em; vertical-align: middle; margin-left: 0.5rem\">SOFT_SKILLS</span>\n",
              "</mark>\n",
              " on other teams  What  Youll  Bring  To  The  Analytics  Team  \n",
              "<mark class=\"entity\" style=\"background: blue; padding: 0.45em 0.6em; margin: 0 0.25em; line-height: 1; border-radius: 0.35em;\">\n",
              "    Bachelors degree   AND  \n",
              "    <span style=\"font-size: 0.8em; font-weight: bold; line-height: 1; border-radius: 0.35em; vertical-align: middle; margin-left: 0.5rem\">EDUCATION</span>\n",
              "</mark>\n",
              "\n",
              "<mark class=\"entity\" style=\"background: red; padding: 0.45em 0.6em; margin: 0 0.25em; line-height: 1; border-radius: 0.35em;\">\n",
              "    4 years of professional experience\n",
              "    <span style=\"font-size: 0.8em; font-weight: bold; line-height: 1; border-radius: 0.35em; vertical-align: middle; margin-left: 0.5rem\">YEARS_OF_EXPERIENCE</span>\n",
              "</mark>\n",
              " in a similar/related role   OR  \n",
              "<mark class=\"entity\" style=\"background: red; padding: 0.45em 0.6em; margin: 0 0.25em; line-height: 1; border-radius: 0.35em;\">\n",
              "    2 years of professional experience\n",
              "    <span style=\"font-size: 0.8em; font-weight: bold; line-height: 1; border-radius: 0.35em; vertical-align: middle; margin-left: 0.5rem\">YEARS_OF_EXPERIENCE</span>\n",
              "</mark>\n",
              " in a similar/related role  AND  Masters/ \n",
              "<mark class=\"entity\" style=\"background: blue; padding: 0.45em 0.6em; margin: 0 0.25em; line-height: 1; border-radius: 0.35em;\">\n",
              "    Ph D\n",
              "    <span style=\"font-size: 0.8em; font-weight: bold; line-height: 1; border-radius: 0.35em; vertical-align: middle; margin-left: 0.5rem\">EDUCATION</span>\n",
              "</mark>\n",
              " in a similar/related field such as data science or \n",
              "<mark class=\"entity\" style=\"background: grey; padding: 0.45em 0.6em; margin: 0 0.25em; line-height: 1; border-radius: 0.35em;\">\n",
              "    analytics\n",
              "    <span style=\"font-size: 0.8em; font-weight: bold; line-height: 1; border-radius: 0.35em; vertical-align: middle; margin-left: 0.5rem\">CONCEPTS</span>\n",
              "</mark>\n",
              "  Expert command of  SQL  youll be using it daily  Firm grasp of  \n",
              "<mark class=\"entity\" style=\"background: yello; padding: 0.45em 0.6em; margin: 0 0.25em; line-height: 1; border-radius: 0.35em;\">\n",
              "    Python\n",
              "    <span style=\"font-size: 0.8em; font-weight: bold; line-height: 1; border-radius: 0.35em; vertical-align: middle; margin-left: 0.5rem\">TOOLS_TECH</span>\n",
              "</mark>\n",
              ", including  Pandas,  \n",
              "<mark class=\"entity\" style=\"background: pink; padding: 0.45em 0.6em; margin: 0 0.25em; line-height: 1; border-radius: 0.35em;\">\n",
              "    Scikit-learn\n",
              "    <span style=\"font-size: 0.8em; font-weight: bold; line-height: 1; border-radius: 0.35em; vertical-align: middle; margin-left: 0.5rem\">SOFT_SKILLS</span>\n",
              "</mark>\n",
              ", and  \n",
              "<mark class=\"entity\" style=\"background: yello; padding: 0.45em 0.6em; margin: 0 0.25em; line-height: 1; border-radius: 0.35em;\">\n",
              "    Jupyter notebooks\n",
              "    <span style=\"font-size: 0.8em; font-weight: bold; line-height: 1; border-radius: 0.35em; vertical-align: middle; margin-left: 0.5rem\">TOOLS_TECH</span>\n",
              "</mark>\n",
              "  Excellent knowledge of common \n",
              "<mark class=\"entity\" style=\"background: grey; padding: 0.45em 0.6em; margin: 0 0.25em; line-height: 1; border-radius: 0.35em;\">\n",
              "    machine learning models\n",
              "    <span style=\"font-size: 0.8em; font-weight: bold; line-height: 1; border-radius: 0.35em; vertical-align: middle; margin-left: 0.5rem\">CONCEPTS</span>\n",
              "</mark>\n",
              "  both supervised and unsupervised (e.g., \n",
              "<mark class=\"entity\" style=\"background: grey; padding: 0.45em 0.6em; margin: 0 0.25em; line-height: 1; border-radius: 0.35em;\">\n",
              "    linear/logistic regression\n",
              "    <span style=\"font-size: 0.8em; font-weight: bold; line-height: 1; border-radius: 0.35em; vertical-align: middle; margin-left: 0.5rem\">CONCEPTS</span>\n",
              "</mark>\n",
              ", tree-based models, gradient boosting, \n",
              "<mark class=\"entity\" style=\"background: grey; padding: 0.45em 0.6em; margin: 0 0.25em; line-height: 1; border-radius: 0.35em;\">\n",
              "    neural networks\n",
              "    <span style=\"font-size: 0.8em; font-weight: bold; line-height: 1; border-radius: 0.35em; vertical-align: middle; margin-left: 0.5rem\">CONCEPTS</span>\n",
              "</mark>\n",
              ", \n",
              "<mark class=\"entity\" style=\"background: grey; padding: 0.45em 0.6em; margin: 0 0.25em; line-height: 1; border-radius: 0.35em;\">\n",
              "    clustering methods\n",
              "    <span style=\"font-size: 0.8em; font-weight: bold; line-height: 1; border-radius: 0.35em; vertical-align: middle; margin-left: 0.5rem\">CONCEPTS</span>\n",
              "</mark>\n",
              ", etc.)  and when to use them  Solid understanding of \n",
              "<mark class=\"entity\" style=\"background: grey; padding: 0.45em 0.6em; margin: 0 0.25em; line-height: 1; border-radius: 0.35em;\">\n",
              "    statistics\n",
              "    <span style=\"font-size: 0.8em; font-weight: bold; line-height: 1; border-radius: 0.35em; vertical-align: middle; margin-left: 0.5rem\">CONCEPTS</span>\n",
              "</mark>\n",
              "  Strong understanding of  \n",
              "<mark class=\"entity\" style=\"background: grey; padding: 0.45em 0.6em; margin: 0 0.25em; line-height: 1; border-radius: 0.35em;\">\n",
              "    A/ B testing\n",
              "    <span style=\"font-size: 0.8em; font-weight: bold; line-height: 1; border-radius: 0.35em; vertical-align: middle; margin-left: 0.5rem\">CONCEPTS</span>\n",
              "</mark>\n",
              " (design and \n",
              "<mark class=\"entity\" style=\"background: grey; padding: 0.45em 0.6em; margin: 0 0.25em; line-height: 1; border-radius: 0.35em;\">\n",
              "    analysis)\n",
              "    <span style=\"font-size: 0.8em; font-weight: bold; line-height: 1; border-radius: 0.35em; vertical-align: middle; margin-left: 0.5rem\">CONCEPTS</span>\n",
              "</mark>\n",
              "  Knack for \n",
              "<mark class=\"entity\" style=\"background: yello; padding: 0.45em 0.6em; margin: 0 0.25em; line-height: 1; border-radius: 0.35em;\">\n",
              "    data visualization\n",
              "    <span style=\"font-size: 0.8em; font-weight: bold; line-height: 1; border-radius: 0.35em; vertical-align: middle; margin-left: 0.5rem\">TOOLS_TECH</span>\n",
              "</mark>\n",
              " and \n",
              "<mark class=\"entity\" style=\"background: pink; padding: 0.45em 0.6em; margin: 0 0.25em; line-height: 1; border-radius: 0.35em;\">\n",
              "    ability to present data in a clear, concise manner\n",
              "    <span style=\"font-size: 0.8em; font-weight: bold; line-height: 1; border-radius: 0.35em; vertical-align: middle; margin-left: 0.5rem\">SOFT_SKILLS</span>\n",
              "</mark>\n",
              "  \n",
              "<mark class=\"entity\" style=\"background: pink; padding: 0.45em 0.6em; margin: 0 0.25em; line-height: 1; border-radius: 0.35em;\">\n",
              "    Ability and desire to present complex results to non-technical audiences  Outstanding communication skills\n",
              "    <span style=\"font-size: 0.8em; font-weight: bold; line-height: 1; border-radius: 0.35em; vertical-align: middle; margin-left: 0.5rem\">SOFT_SKILLS</span>\n",
              "</mark>\n",
              " and \n",
              "<mark class=\"entity\" style=\"background: pink; padding: 0.45em 0.6em; margin: 0 0.25em; line-height: 1; border-radius: 0.35em;\">\n",
              "    ability to work collaboratively with other roles  Ambition to own the\n",
              "    <span style=\"font-size: 0.8em; font-weight: bold; line-height: 1; border-radius: 0.35em; vertical-align: middle; margin-left: 0.5rem\">SOFT_SKILLS</span>\n",
              "</mark>\n",
              " \n",
              "<mark class=\"entity\" style=\"background: grey; padding: 0.45em 0.6em; margin: 0 0.25em; line-height: 1; border-radius: 0.35em;\">\n",
              "    analytics\n",
              "    <span style=\"font-size: 0.8em; font-weight: bold; line-height: 1; border-radius: 0.35em; vertical-align: middle; margin-left: 0.5rem\">CONCEPTS</span>\n",
              "</mark>\n",
              " and \n",
              "<mark class=\"entity\" style=\"background: grey; padding: 0.45em 0.6em; margin: 0 0.25em; line-height: 1; border-radius: 0.35em;\">\n",
              "    data science function\n",
              "    <span style=\"font-size: 0.8em; font-weight: bold; line-height: 1; border-radius: 0.35em; vertical-align: middle; margin-left: 0.5rem\">CONCEPTS</span>\n",
              "</mark>\n",
              " for a large game studio  Extra  Gems  For  Experience working in the \n",
              "<mark class=\"entity\" style=\"background: violet; padding: 0.45em 0.6em; margin: 0 0.25em; line-height: 1; border-radius: 0.35em;\">\n",
              "    gaming industry\n",
              "    <span style=\"font-size: 0.8em; font-weight: bold; line-height: 1; border-radius: 0.35em; vertical-align: middle; margin-left: 0.5rem\">DOMAIN</span>\n",
              "</mark>\n",
              "  Experience developing and deploying production code  \n",
              "<mark class=\"entity\" style=\"background: yello; padding: 0.45em 0.6em; margin: 0 0.25em; line-height: 1; border-radius: 0.35em;\">\n",
              "    Leadership\n",
              "    <span style=\"font-size: 0.8em; font-weight: bold; line-height: 1; border-radius: 0.35em; vertical-align: middle; margin-left: 0.5rem\">TOOLS_TECH</span>\n",
              "</mark>\n",
              " and/or consulting experience  Read more about what weve been up to!  Pocket  Gems  Blog  At  Pocket  Gems, we're building teams that value originality, inclusivity, and accountability -- and we hope to engage with talent based on these and other core values.  We also offer competitive perks, such as \n",
              "<mark class=\"entity\" style=\"background: pink; padding: 0.45em 0.6em; margin: 0 0.25em; line-height: 1; border-radius: 0.35em;\">\n",
              "    flexible\n",
              "    <span style=\"font-size: 0.8em; font-weight: bold; line-height: 1; border-radius: 0.35em; vertical-align: middle; margin-left: 0.5rem\">SOFT_SKILLS</span>\n",
              "</mark>\n",
              " vacation, 401k matching, and a generous benefits package,  Pocket  Gems is an equal opportunity employer.  We do not discriminate based on race, color, ethnicity, ancestry, national origin, religion, sex, gender, gender identity, gender expression, sexual orientation, age, disability, veteran status, genetic information, marital status or any legally protected status.  Pursuant to the  San  Francisco  Fair  Chance  Ordinance, we will consider for employment qualified applicants with arrest and conviction records.</div></span>"
            ]
          },
          "metadata": {}
        }
      ],
      "source": [
        "spacy.displacy.render(doc, style=\"ent\", options = options, jupyter=True) # display in Jupyter"
      ]
    },
    {
      "cell_type": "markdown",
      "source": [
        "# Saving our Model"
      ],
      "metadata": {
        "id": "ah_nASeDGgg4"
      }
    },
    {
      "cell_type": "code",
      "execution_count": 33,
      "metadata": {
        "colab": {
          "base_uri": "https://localhost:8080/",
          "height": 17
        },
        "id": "KLonlm9gCED_",
        "outputId": "9a12230f-cbff-4e06-8f2a-28d726871f92"
      },
      "outputs": [
        {
          "output_type": "display_data",
          "data": {
            "text/plain": [
              "<IPython.core.display.Javascript object>"
            ],
            "application/javascript": [
              "\n",
              "    async function download(id, filename, size) {\n",
              "      if (!google.colab.kernel.accessAllowed) {\n",
              "        return;\n",
              "      }\n",
              "      const div = document.createElement('div');\n",
              "      const label = document.createElement('label');\n",
              "      label.textContent = `Downloading \"${filename}\": `;\n",
              "      div.appendChild(label);\n",
              "      const progress = document.createElement('progress');\n",
              "      progress.max = size;\n",
              "      div.appendChild(progress);\n",
              "      document.body.appendChild(div);\n",
              "\n",
              "      const buffers = [];\n",
              "      let downloaded = 0;\n",
              "\n",
              "      const channel = await google.colab.kernel.comms.open(id);\n",
              "      // Send a message to notify the kernel that we're ready.\n",
              "      channel.send({})\n",
              "\n",
              "      for await (const message of channel.messages) {\n",
              "        // Send a message to notify the kernel that we're ready.\n",
              "        channel.send({})\n",
              "        if (message.buffers) {\n",
              "          for (const buffer of message.buffers) {\n",
              "            buffers.push(buffer);\n",
              "            downloaded += buffer.byteLength;\n",
              "            progress.value = downloaded;\n",
              "          }\n",
              "        }\n",
              "      }\n",
              "      const blob = new Blob(buffers, {type: 'application/binary'});\n",
              "      const a = document.createElement('a');\n",
              "      a.href = window.URL.createObjectURL(blob);\n",
              "      a.download = filename;\n",
              "      div.appendChild(a);\n",
              "      a.click();\n",
              "      div.remove();\n",
              "    }\n",
              "  "
            ]
          },
          "metadata": {}
        },
        {
          "output_type": "display_data",
          "data": {
            "text/plain": [
              "<IPython.core.display.Javascript object>"
            ],
            "application/javascript": [
              "download(\"download_bfde4b0a-bf5b-4765-8eef-455145e6e649\", \"model-best.zip\", 5705886)"
            ]
          },
          "metadata": {}
        }
      ],
      "source": [
        "import shutil\n",
        "from google.colab import files\n",
        "\n",
        "# Zip the folder\n",
        "shutil.make_archive('model-best', 'zip', 'model-best')\n",
        "\n",
        "# Download the zipped folder\n",
        "files.download('model-best.zip')\n"
      ]
    }
  ],
  "metadata": {
    "colab": {
      "provenance": [],
      "gpuType": "T4",
      "collapsed_sections": [
        "-14p_pKaWs2D",
        "sQ8JGXuE3-Te",
        "SJgWl9Cr8mGJ",
        "Sd37l9nWAVc7",
        "rLzJiWDNAmag",
        "IMBbHj509wIy",
        "ah_nASeDGgg4"
      ],
      "include_colab_link": true
    },
    "kernelspec": {
      "display_name": "Python 3",
      "name": "python3"
    },
    "language_info": {
      "codemirror_mode": {
        "name": "ipython",
        "version": 3
      },
      "file_extension": ".py",
      "mimetype": "text/x-python",
      "name": "python",
      "nbconvert_exporter": "python",
      "pygments_lexer": "ipython3",
      "version": "3.8.8"
    },
    "accelerator": "GPU"
  },
  "nbformat": 4,
  "nbformat_minor": 0
}